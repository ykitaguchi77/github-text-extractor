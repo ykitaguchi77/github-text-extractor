{
  "nbformat": 4,
  "nbformat_minor": 0,
  "metadata": {
    "colab": {
      "provenance": [],
      "authorship_tag": "ABX9TyMJEXudW2jSFZSqFBUUHdDa",
      "include_colab_link": true
    },
    "kernelspec": {
      "name": "python3",
      "display_name": "Python 3"
    },
    "language_info": {
      "name": "python"
    }
  },
  "cells": [
    {
      "cell_type": "markdown",
      "metadata": {
        "id": "view-in-github",
        "colab_type": "text"
      },
      "source": [
        "<a href=\"https://colab.research.google.com/github/ykitaguchi77/github-tree-explorer/blob/main/github-tree-explorer.ipynb\" target=\"_parent\"><img src=\"https://colab.research.google.com/assets/colab-badge.svg\" alt=\"Open In Colab\"/></a>"
      ]
    },
    {
      "cell_type": "markdown",
      "source": [
        "# **📂 GitHub-Tree-Explorer**\n",
        "\n",
        "## 🚀 Overview\n",
        "`GitRepoTreeExplorer` is a tool that visualizes the file hierarchy of a GitHub repository and exports it in XML format. It allows you to easily review the contents of a repository and clearly understand its structure.\n",
        "\n",
        "## 📌 Key Features\n",
        "- Clone the contents of a GitHub repository to local storage\n",
        "- Visually display the file hierarchy\n",
        "- Export the directory structure in XML format\n",
        "\n",
        "## 💡 Future Application\n",
        "- Output txt file includes total codes of the repository with XML structure, allowing for analysis of GitHub repositories with large language models (LLM) such as Claude3.\n",
        "\n",
        "\n",
        "\n",
        "\n"
      ],
      "metadata": {
        "id": "9Phwz4n0LMfZ"
      }
    },
    {
      "cell_type": "code",
      "execution_count": 1,
      "metadata": {
        "colab": {
          "base_uri": "https://localhost:8080/"
        },
        "id": "jAQjzGAK1dmm",
        "outputId": "d98dd32b-b388-4aaa-d956-d8c0a0f87fd1"
      },
      "outputs": [
        {
          "output_type": "stream",
          "name": "stdout",
          "text": [
            "Collecting gitpython\n",
            "  Downloading GitPython-3.1.42-py3-none-any.whl (195 kB)\n",
            "\u001b[2K     \u001b[90m━━━━━━━━━━━━━━━━━━━━━━━━━━━━━━━━━━━━━━━━\u001b[0m \u001b[32m195.4/195.4 kB\u001b[0m \u001b[31m2.4 MB/s\u001b[0m eta \u001b[36m0:00:00\u001b[0m\n",
            "\u001b[?25hCollecting treelib\n",
            "  Downloading treelib-1.7.0-py3-none-any.whl (18 kB)\n",
            "Collecting gitdb<5,>=4.0.1 (from gitpython)\n",
            "  Downloading gitdb-4.0.11-py3-none-any.whl (62 kB)\n",
            "\u001b[2K     \u001b[90m━━━━━━━━━━━━━━━━━━━━━━━━━━━━━━━━━━━━━━━━\u001b[0m \u001b[32m62.7/62.7 kB\u001b[0m \u001b[31m5.9 MB/s\u001b[0m eta \u001b[36m0:00:00\u001b[0m\n",
            "\u001b[?25hRequirement already satisfied: six in /usr/local/lib/python3.10/dist-packages (from treelib) (1.16.0)\n",
            "Collecting smmap<6,>=3.0.1 (from gitdb<5,>=4.0.1->gitpython)\n",
            "  Downloading smmap-5.0.1-py3-none-any.whl (24 kB)\n",
            "Installing collected packages: treelib, smmap, gitdb, gitpython\n",
            "Successfully installed gitdb-4.0.11 gitpython-3.1.42 smmap-5.0.1 treelib-1.7.0\n"
          ]
        }
      ],
      "source": [
        "!pip install gitpython treelib"
      ]
    },
    {
      "cell_type": "code",
      "source": [
        "import os\n",
        "from git import Repo\n",
        "from treelib import Node, Tree\n",
        "\n",
        "# GitHub repository URL\n",
        "repository_url = \"https://github.com/ykitaguchi77/github-tree-explorer.git\" #enter repository URL\n",
        "\n",
        "# クローンするディレクトリのパス\n",
        "clone_dir = \"/content/repo\"\n",
        "os.makedirs(clone_dir, exist_ok=True)\n",
        "\n",
        "%cd $clone_dir\n",
        "!git clone $repository_url\n",
        "\n",
        "exclude_dirs = [\".git\"]"
      ],
      "metadata": {
        "colab": {
          "base_uri": "https://localhost:8080/"
        },
        "id": "P3vGlxiV7xah",
        "outputId": "8bce00ea-968d-4116-82c0-c2fe209363d6"
      },
      "execution_count": 3,
      "outputs": [
        {
          "output_type": "stream",
          "name": "stdout",
          "text": [
            "/content/repo\n",
            "Cloning into 'github-tree-explorer'...\n",
            "remote: Enumerating objects: 10, done.\u001b[K\n",
            "remote: Counting objects: 100% (10/10), done.\u001b[K\n",
            "remote: Compressing objects: 100% (9/9), done.\u001b[K\n",
            "remote: Total 10 (delta 1), reused 0 (delta 0), pack-reused 0\u001b[K\n",
            "Receiving objects: 100% (10/10), 5.51 KiB | 2.76 MiB/s, done.\n",
            "Resolving deltas: 100% (1/1), done.\n"
          ]
        }
      ]
    },
    {
      "cell_type": "code",
      "source": [
        "from treelib import Tree\n",
        "import os\n",
        "\n",
        "# Function to display the file hierarchy\n",
        "def display_file_hierarchy(directory, exclude_dirs):\n",
        "    tree = Tree()\n",
        "    tree.create_node(directory, directory)  # Add root node\n",
        "\n",
        "    # Traverse the directory structure\n",
        "    for root, dirs, files in os.walk(directory):\n",
        "        dirs[:] = [d for d in dirs if d not in exclude_dirs]  # Exclude specified directories\n",
        "        for dir in dirs:\n",
        "            tree.create_node(dir, os.path.join(root, dir), parent=root)  # Add directory nodes\n",
        "        for file in files:\n",
        "            tree.create_node(file, os.path.join(root, file), parent=root)  # Add file nodes\n",
        "\n",
        "    # Define a fixed file name for the output\n",
        "    tree_file = os.path.join(directory, \"tree_structure.txt\")\n",
        "\n",
        "    # Open (and create) the file to ensure it's empty before saving the tree structure\n",
        "    with open(tree_file, 'w') as file:\n",
        "        pass  # This action creates or truncates the file\n",
        "\n",
        "    # Save the tree structure to the text file\n",
        "    tree.save2file(tree_file)\n",
        "    print(f\"Directory structure saved to {tree_file}\")\n",
        "\n",
        "    # Read and display the content of the text file\n",
        "    with open(tree_file, 'r') as file:\n",
        "        print(file.read())\n",
        "\n",
        "# Example usage to display the file hierarchy of a cloned repository, excluding the .git directory\n",
        "display_file_hierarchy(clone_dir, exclude_dirs=[\".git\"])"
      ],
      "metadata": {
        "colab": {
          "base_uri": "https://localhost:8080/"
        },
        "id": "d9yWu1wp2ct5",
        "outputId": "4b52e616-721c-41f4-8200-84ba8af8e77e"
      },
      "execution_count": 12,
      "outputs": [
        {
          "output_type": "stream",
          "name": "stdout",
          "text": [
            "Directory structure saved to /content/repo/tree_structure.txt\n",
            "/content/repo\n",
            "├── directory_structure_with_content.xml\n",
            "├── github-tree-explorer\n",
            "│   ├── LICENSE\n",
            "│   ├── README.md\n",
            "│   └── github-tree-explorer.py\n",
            "└── tree_structure.txt\n",
            "\n"
          ]
        }
      ]
    },
    {
      "cell_type": "code",
      "source": [
        "import os\n",
        "import xml.etree.ElementTree as ET\n",
        "\n",
        "# Function to read the content of a file\n",
        "def read_file_content(file_path):\n",
        "    try:\n",
        "        with open(file_path, 'r', encoding='utf-8') as file:\n",
        "            return file.read()\n",
        "    except Exception as e:\n",
        "        return str(e)\n",
        "\n",
        "# Function to convert a directory structure into an XML format\n",
        "def directory_to_xml(directory, exclude_dirs=None):\n",
        "    if exclude_dirs is None:\n",
        "        exclude_dirs = []\n",
        "\n",
        "    root_element = ET.Element(\"directory\", name=os.path.basename(directory))\n",
        "\n",
        "    # Walk through the directory structure\n",
        "    for root, dirs, files in os.walk(directory, topdown=True):\n",
        "        dirs[:] = [d for d in dirs if d not in exclude_dirs]  # Exclude specified directories\n",
        "        for dir_name in dirs:\n",
        "            dir_path = os.path.join(root, dir_name)\n",
        "            sub_element = ET.SubElement(root_element, \"directory\", name=dir_name)\n",
        "            append_files_and_dirs(sub_element, dir_path, exclude_dirs)\n",
        "\n",
        "        for file_name in files:\n",
        "            file_path = os.path.join(root, file_name)\n",
        "            file_element = ET.SubElement(root_element, \"file\", name=file_name)\n",
        "            content = read_file_content(file_path)\n",
        "            file_element.text = content\n",
        "\n",
        "        break  # Stop the loop after the first iteration to avoid deep recursion\n",
        "\n",
        "    return root_element\n",
        "\n",
        "# Function to append files and directories to the XML structure recursively\n",
        "def append_files_and_dirs(parent_element, path, exclude_dirs):\n",
        "    for item in os.listdir(path):\n",
        "        item_path = os.path.join(path, item)\n",
        "        if os.path.isdir(item_path) and item not in exclude_dirs:\n",
        "            dir_element = ET.SubElement(parent_element, \"directory\", name=item)\n",
        "            append_files_and_dirs(dir_element, item_path, exclude_dirs)\n",
        "        elif os.path.isfile(item_path):\n",
        "            file_element = ET.SubElement(parent_element, \"file\", name=item)\n",
        "            content = read_file_content(item_path)\n",
        "            file_element.text = content\n",
        "\n",
        "# Function to write the XML structure to a file\n",
        "def write_xml_to_file(element, file_name):\n",
        "    tree = ET.ElementTree(element)\n",
        "    tree.write(file_name, encoding='utf-8', xml_declaration=True)\n",
        "\n",
        "# Function to write the XML data to a text file\n",
        "def write_xml_to_text_file(xml_element, text_file_name):\n",
        "    with open(text_file_name, 'w', encoding='utf-8') as file:\n",
        "        file.write(ET.tostring(xml_element, encoding='unicode'))\n",
        "\n",
        "# Example of using the functions to generate an XML representation of a directory structure\n",
        "root_dir = f\"{clone_dir}/{os.path.basename(repository_url).rstrip('.git')}\"  # Path of the directory to be analyzed\n",
        "exclude_dirs = ['.git']\n",
        "root_element = directory_to_xml(root_dir, exclude_dirs)\n",
        "#xml_file_name = \"directory_structure_with_content.xml\"\n",
        "text_file_name = \"directory_structure_with_content.txt\"\n",
        "\n",
        "#write_xml_to_file(root_element, xml_file_name)\n",
        "write_xml_to_text_file(root_element, text_file_name)\n"
      ],
      "metadata": {
        "id": "ICsbBd3_WJUI"
      },
      "execution_count": 18,
      "outputs": []
    },
    {
      "cell_type": "code",
      "source": [],
      "metadata": {
        "id": "ySdLbUA6WPPu"
      },
      "execution_count": null,
      "outputs": []
    }
  ]
}